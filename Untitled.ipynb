{
 "cells": [
  {
   "cell_type": "code",
   "execution_count": null,
   "metadata": {},
   "outputs": [],
   "source": [
    "pwd"
   ]
  },
  {
   "cell_type": "markdown",
   "metadata": {},
   "source": [
    "# Hands on 01\n",
    "## First contact, setup, instructions"
   ]
  },
  {
   "cell_type": "code",
   "execution_count": null,
   "metadata": {},
   "outputs": [],
   "source": [
    "!git --version "
   ]
  },
  {
   "cell_type": "code",
   "execution_count": null,
   "metadata": {},
   "outputs": [],
   "source": [
    "!git --help\n"
   ]
  },
  {
   "cell_type": "code",
   "execution_count": null,
   "metadata": {},
   "outputs": [],
   "source": [
    "!git help git"
   ]
  },
  {
   "cell_type": "code",
   "execution_count": 19,
   "metadata": {},
   "outputs": [
    {
     "name": "stdout",
     "output_type": "stream",
     "text": [
      "usage: git config [<options>]\n",
      "\n",
      "Config file location\n",
      "    --global              use global config file\n",
      "    --system              use system config file\n",
      "    --local               use repository config file\n",
      "    --worktree            use per-worktree config file\n",
      "    -f, --file <file>     use given config file\n",
      "    --blob <blob-id>      read config from given blob object\n",
      "\n",
      "Action\n",
      "    --get                 get value: name [value-pattern]\n",
      "    --get-all             get all values: key [value-pattern]\n",
      "    --get-regexp          get values for regexp: name-regex [value-pattern]\n",
      "    --get-urlmatch        get value specific for the URL: section[.var] URL\n",
      "    --replace-all         replace all matching variables: name value [value-pattern]\n",
      "    --add                 add a new variable: name value\n",
      "    --unset               remove a variable: name [value-pattern]\n",
      "    --unset-all           remove all matches: name [value-pattern]\n",
      "    --rename-section      rename section: old-name new-name\n",
      "    --remove-section      remove a section: name\n",
      "    -l, --list            list all\n",
      "    --fixed-value         use string equality when comparing values to 'value-pattern'\n",
      "    -e, --edit            open an editor\n",
      "    --get-color           find the color configured: slot [default]\n",
      "    --get-colorbool       find the color setting: slot [stdout-is-tty]\n",
      "\n",
      "Type\n",
      "    -t, --type <type>     value is given this type\n",
      "    --bool                value is \"true\" or \"false\"\n",
      "    --int                 value is decimal number\n",
      "    --bool-or-int         value is --bool or --int\n",
      "    --bool-or-str         value is --bool or string\n",
      "    --path                value is a path (file or directory name)\n",
      "    --expiry-date         value is an expiry date\n",
      "\n",
      "Other\n",
      "    -z, --null            terminate values with NUL byte\n",
      "    --name-only           show variable names only\n",
      "    --includes            respect include directives on lookup\n",
      "    --show-origin         show origin of config (file, standard input, blob, command line)\n",
      "    --show-scope          show scope of config (worktree, local, global, system, command)\n",
      "    --default <value>     with --get, use default value when missing entry\n",
      "\n"
     ]
    }
   ],
   "source": [
    "!git config --global"
   ]
  },
  {
   "cell_type": "code",
   "execution_count": null,
   "metadata": {},
   "outputs": [],
   "source": []
  }
 ],
 "metadata": {
  "kernelspec": {
   "display_name": "Python 3",
   "language": "python",
   "name": "python3"
  },
  "language_info": {
   "codemirror_mode": {
    "name": "ipython",
    "version": 3
   },
   "file_extension": ".py",
   "mimetype": "text/x-python",
   "name": "python",
   "nbconvert_exporter": "python",
   "pygments_lexer": "ipython3",
   "version": "3.8.5"
  },
  "widgets": {
   "application/vnd.jupyter.widget-state+json": {
    "state": {},
    "version_major": 2,
    "version_minor": 0
   }
  }
 },
 "nbformat": 4,
 "nbformat_minor": 4
}
