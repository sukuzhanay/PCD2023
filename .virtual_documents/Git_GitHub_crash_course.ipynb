








!git --version 


!git --help


!git help git


!git status


!git push -u origin main


!git commit -m "Added profile code"


!git status


!git add .


!git push -u origin main


! git status


! git add .


! git push -u origin main


! git log


! git restore 


! git diff


! git reset



