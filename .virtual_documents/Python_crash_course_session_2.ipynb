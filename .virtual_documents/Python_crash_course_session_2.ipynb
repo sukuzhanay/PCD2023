








x11 = 24
x12 = int(24)
x21 = 33
x22 = float(33)
z = complex(x11)

l1 = [1,2,3]
t1 = (4,5,6)
l2 = tuple(l1)
t2 = list(t1)

c1 = set(l1)

r1 = list()
r2 = tuple()
r3 = set()


type(x22)


c1


r3


lista1 = [1,2,3]





lista2 = lista1


print(lista1)
print(lista2)


lista2[1]= 99


print(lista1)
print(lista2)


lista1.append(88)


print(lista1)
print(lista2)


lista3 = lista1.copy()


lista3.append(77)


print(lista1)
print(lista2)
print(lista3)


lista1.append(66)


print(lista1)
print(lista2)
print(lista3)





v1 = 99


print(isinstance(v1, int), isinstance(v1, float)) 





A = {'casa', 'perro', 1, 1+5j, 90, 90.0}; print(A)
B = {1, 3.2, 25, 90.0}; print(B)


# INCLUSION DE ELEMENTOS
print('gato' in A)
print('perro' in A)


{1, 90} in A


# UNION DE DOS O MAS CONJUNTOS
print(A | B)
print(B | A)


A | (25,6,'gato')


A.union(B)


A.union((25,6,'gato'))


# INTERSECCIÓN DE DOS O MÁS CONJUNTOS
A & B


B.intersection(A)


# DIFERENCIA DE CONJUNTOS


A - B


A.difference(B)


# Diferencia simétrica
A ^ B


A.union(B).difference(A.intersection(B))


# Comprobación de si existen elementos en común.
A.isdisjoint(B)


{1, 90}.issubset(A) #inclusión de subconjuntos


{1, 90} < A


{1, 90} <= A








str1 = 'Hablen niños ratas de las UEM'


str1.split('las') # Genera una lista con cada fragmento de la cadena en una posición según el separador indicado.


print(str1.lower()) # en minúsculas
print(str1.upper()) # en mayúsculas


str1.strip(' ') # elimina el caracter indicado.





print(str1) # parar imprimir cadenas de texto.


len(str1) #longitud de un objeto, que tenga medida


globals() #listar variables


dir() #lista de variables





# listar variables
%who 


#Listar variables tipo y valor
%whos


%timeit
x=1


# eliminar una o varias variables
del x12


%who





lista = [1,2,3,4,5,6,7,8,9,10]


lista.append(25) # Añade valor al final de la lista


lista.pop() # Devuelve el último valor de la lista y lo elimina.


otra_lista = lista.copy() # Permite copiar los valores de una lista a otra.


lista.reverse() #invierte el orden


lista.sort() #orden la lista


lista.clear() #elimina todos los elementos.





from random import seed, random, randint, gauss, choice, sample


seed(10)
lista = [random() for i in range(110)]
print(lista)





suma = 0
for numero in lista:
    suma = suma + numero
print(suma)






recuento = 0
for numero in lista:
    recuento = recuento + 1
print(suma)


def recuento(ls1):
    """Función que aceptada como entrada una lista de números y 
    realiza la suma de sus elementos"""
    x = 0
    for i in ls1:
        x = x + 1
    return x


help(recuento)


n = recuento(lista)





def varianza(ls):
    """Función que calcula la varianza y desviación típica de los valores de 
    una lista de números."""
    suma = 0
    recuento = 0
    for x in ls:
        suma = suma + x
        recuento = recuento + 1
    media = suma / recuento
    
    var = 0
    for x in ls:
        var = var + (x - media)**2
    var = var / recuento
    
    sd = var**(1/2)
    
    return [var, sd]


varianza(lista)





def factorial1(n):
    """Función que calcula el factorial de un número."""
    producto = 1
    for x in range(1,n+1):
        producto = producto * x
    return producto


%%timeit
factorial1(10)


def factorial2(n):
    """..."""
    if n in (0,1):
        return 1
    else:
        return n * factorial2(n-1)


factorial2(10)





def es_par(x):
    """..."""
    return (x % 2) == 0


def es_par(x):
    """..."""
    if (x % 2) == 0:
        return True
    else:
        return False


es_par(14)





x = [1, 1];print(x)
i = 1
x = x + [x[0] + x[1]]
print(x)
x = x + [x[1] + x[2]]
print(x)
x = x + [x[2] + x[3]]
print(x)


x = [1, 1];print(x)
i = 1
x = x + [x[i-1] + x[i]]
print(x)
i += 1
x = x + [x[i-1] + x[i]]
print(x)
i += 1
x = x + [x[i-1] + x[i]]
print(x)
i += 1
x = x + [x[i-1] + x[i]]
print(x)


x = [1, 1]
n = 2
for i in range(1, n - 1):
    x = x + [x[i] + x[i-1]]
print(x)


def serie_fibonacci(n_elem):
    salida = []
    for i in range(n_elem):
        salida.append(fibonacci(i+1))
    return salida





def serie_fibonacci2(n_elem=0):
    aux = [1, 1]
    if n_elem < 1:
        print("Se debe indicar como mínimo un elemento.")
    elif n_elem <= 2:
        return aux[:n_elem]
    else:
        for i in range(2, n_elem):
            aux.append(sum(aux[(i-2):i]))
        return aux





def fibonacci(n):
    a, b = 0, 1
    for i in range(n):
        a, b = b, a + b
    return a


def fibonacci_rec(n):
    if n == 0:
        resultado = 0
    elif n == 1:
        resultado = 1
    else:
        resultado = fibonacci_rec(n - 1) + fibonacci_rec(n - 2)
    return resultado





%%timeit
fibonacci(10)


%%timeit
fibonacci_rec(10)





2 * ((-1) ** k) * (3 ** (1 / 2 - k)) / (2 * k + 1)


pi = 0
for k in range(10):
    pi += 2 * ((-1) ** k) * (3 ** (1 / 2 - k)) / (2 * k + 1)

print(pi)


def aproxima_pi(eps):
    """..."""
    pi = 0
    k = 0
    while (k <= 1000):
        pi += 2 * ((-1) ** k) * (3 ** (1 / 2 - k)) / (2 * k + 1)
        print(pi)
        k += 1
        
    return pi


aproxima_pi(1)








def por_dos(x):
    """...."""
    return 2*x


por_dos(3.7)











def operacion(lado1=1, lado2=1):
    area = lado1 * lado2
    perimetro = 2 * (lado1 + lado2)
    return [area, perimetro]





import math

math.pi


def g(radio):
    area = math.pi * radio ** 2
    perimetro = math.pi * radio * 2
    return {'area':area, 'perimetro':perimetro}


x = g(1)


x['perimetro']











def grados(C):
    """..."""
    return (9/5) * C + 32


grados(28)





for objeto in range(0, 101, 10):
    print(grados(objeto))























def absoluto(n):
    if n > 0:
        return n
    else:
        return -1*n























x = input()


print('Introduzca un valor:')
x = int(input())
print("El numero introducido es",x)


1+x














from random import randint


randint(0, 10)


def acierto(n_min=0, n_max=10):
    x = randint(n_min, n_max)
    fallo = True
    while fallo == True:
        print('Introduce un numero:')
        numero = int(input())
        if numero == x:
            print('Has acertado')
            fallo = False
        elif numero < x:
            print('Es mayor que ', numero)
        else:
            print('Es menor que ', numero)


acierto()






