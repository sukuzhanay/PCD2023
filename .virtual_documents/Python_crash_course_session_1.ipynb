











!cat ./script/primer_script.py








%run ./script/primer_script.py














3/2





1+2j








a = 1
b = 1.3


a





c = "7"
c





print(a, b)





print(type(a), type(b), type(c))





d = 1
print(type(d))
d = 2 + 5j
print(type(d))
d = False
print(type(d))





print(type(a),type(b))


f = a + b
print(f)


type(f)


a+c


c








x, y = 3, "5"
print(x, type(x))
print(y, type(y))
y, x





z = 'Hola'
#t = 'Adios'
#'Ejemplo de dos string'





z + t








primera_lista[1]


primera_lista = [1, 2, 3]
print(primera_lista)


primera_lista + [1, 1, 1]


x = 1.5
lista = [1, "2", x, [1, 'a', 'Madrid', 5 + 1j], 5, 6]


z[3]


lista[3][0]


print(lista)


lista[1:4]


type(lista)


tup = (1, 2, 3)


tup[1]


print(tup, type(tup))











diccionario = {'pepe':36, 'maria':23, 'olga':[43, 'XDFR']}
print(diccionario)


diccionario['maria']


diccionario['paco'] = 23
print(diccionario)





type(diccionario)


diccionario.keys()


tt = diccionario.items()





varStr1 = 'Hola'
varStr2 = "hola"

varStr1 == varStr2


varStr3 = """Hola 
Adios"""


print(varStr3)





x = 1
y = 23
print(x > y)
print(x == y)
print(x <= y)





x = 30
y = 25
if (x > y) or (x==y):
    print('X es mayor que Y.')
    
elif x == y:
    print('X es igual que Y.')

else:
    print('X es menor que Y.')


(x > y) and (x==y)


if -100000:
    print('Hola')





x = 2
for i in (1, 2, 3, 4, 5):
    x = x**2
    print(i, x)


# Escribe aquí el bucle sobre los primeros 100 números.
for lo_que_sea in range(100):
    print(lo_que_sea)


for i in 'Hola':
    print(i)


i


personas = ['ruben','luis', 'amaya', 'juan', 'paula']
for nombre in personas:
    print(nombre)


diccionario.items()


type(personas)


diccionario.keys()


iterable = diccionario.keys
for k,v in diccionario.items():
    print(k,v)


iterable = ['pepe', 'maria', 'olga', 'paco', 'lucia']
for x in iterable:
    y = diccionario.get(x,88888)
    print(y)
    if y == 88888:
        print('error')
    


diccionario


diccionario.get('pepe',8888)





i = 0
while i < 5:
    i += 1
    print(i)








x = 100
iteracion = 0
while (x >= 0.001) & (iteracion <= 1000):
    print('Iteración ' + str(iteracion))
    x /= 2
    iteracion += 1
    print(x)





def compara_valores(x, y):
    """Función que compara dos valores
        indicando cual es mayor o menor"""
    if x > y:
        print('El primero es mayor que el segundo.')
    else:
        print('El primero es menor que el segundo.')


compara_valores(1, 5)
