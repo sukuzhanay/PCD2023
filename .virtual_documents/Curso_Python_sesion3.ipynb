








import numpy as np


np.





array_0 = np.array(80)
print(array_0)


# Array de una dimensión
array_1 = np.array([1, 2, 3, 5, 7, 11])
array_1


# Array de dos dimensiones
array_2 = np.array([[1, 2, 3, 5, 7, 11],[1, 4, 9, 25, 49, 121]])
print(array_2)


# Array de tres dimensiones
array_3 = np.array([[[1, 2, 3, 5, 7, 11],[1, 4, 9, 25, 49, 121]],[[1, 2, 3, 5, 7, 11],[1, 4, 9, 25, 49, 121]]])
print(array_3)





arr1 = np.array([1, 2, 3], dtype=np.float64)
arr1


arr2 = np.array([1, 2, 300, 500], dtype=np.int8)
arr2


tipos = [int, np.int8, np.int16, np.int32, np.int64]
for k in tipos:
    print(np.iinfo(k))


tipos_float = [float, np.float16, np.float32, np.float64, np.float128]
for s in tipos_float:
    print(np.finfo(s))


tipos_complex = [complex, np.complex64, np.complex128, np.complex256]
for s in tipos_complex:
    print(np.finfo(s))





print(array_0.ndim)
print(array_1.ndim)
print(array_2.ndim)
print(array_3.ndim)


print(array_0.shape)
print(array_1.shape)
print(array_2.shape)
print(array_3.shape)


print(array_0.size)
print(array_1.size)
print(array_2.size)
print(array_3.size)


print(array_0.dtype)
print(array_1.dtype)
print(array_2.dtype)
print(array_3.dtype)





array_3


array_3.shape


array_3.reshape(6,4)


array_3.reshape(24,1)








array_3


array_3.shape


array_3[0] # bloque 1


array_3[0,1]  # bloque 1 segunda lista


array_3[0,1,2] ## bloque 1, segunda lista, tercer elemento


# otra forma de acceder
array_3[0][1][2]


## subarray
print(array_3[:, 0:1])





names = np.array(["Pepe", "Jose", "Maria", "Pepe", "Maria", "Jose", "Jose"])
names


data = np.random.randn(7, 4)
data


data + 1


lista = ["Pepe", "Jose", "Maria", "Pepe", "Maria", "Jose", "Jose"];lista


lista == 'Pepe'


filtro = names == 'Pepe'


filtro


data[filtro] = data[filtro] + 1


data





data


filtro2 = data > 0


filtro2


data[filtro2]





filtro3 = (names == "Bob") | (names == "Will")
filtro3


data


data[filtro3]


data[names != "Pepe"] = 7
data





array_3


array_3[0,1,0:3] ## del bloque 1, de la lista 2, los 3 primeros elementos


array_1 = np.array([1, 2, 3, 5, 7, 11, 13, 17])
print(array_1[0:3]) ## los 3 primeros elementos de este vector





a = np.array([[1, 2, 3], [4, 5, 6]])
b = np.array([[1, 1, 1], [2, 2, 2]])


a


a*2


b


b+5


print(a + b)


print(a / b)


print(a ** 2)





a = np.array([[1, 2, 3], [4, 5, 6]])
b = np.array([[1, 1], [2, 2], [3, 3]])


a


b


print(a.dot(b))


a.T


print(a.T.shape)





array_a=np.array([[1, 2, 3],[1, 4, 9]])
array_b=np.array([[1, 3, 2],[2, 2, 2]])

array_a > array_b


array_a=np.array([[1, 2, 3],[1, 4, 9]])
array_b=np.array([[1, 3, 2],[2, 2, 2]])

print(np.greater(array_a,array_b))





array_a


array_b


np.add(array_a, array_b) ## suma los dos arrays


array_a


array_a_reduced=np.add.reduce(array_a)
array_a_reduced


np.add.reduce(array_a_reduced)


array_a.sum() # es lo mismo que lo anterior





array_a


np.add.accumulate(array_a)


np.add.accumulate(array_a_reduced)





array_a


array_a.sum()


array_a.sum(axis=0) 


array_a.sum(axis=1)





array_1d=np.random.rand(10) # definimos array
array_1d


print(np.sort(array_1d)) # ordenamos


array_2d=np.random.rand(3,4) # definimos array
array_2d


print(np.sort(array_2d)) # ordenamos


print(np.sort(array_2d, None)) # ordenamos


print(np.sort(array_2d,axis=0)) # ordenamos


print(np.sort(array_2d,axis=1)) # ordenamos


array_2d.sort()





array = np.random.rand(2,5) # definimos array aleatorio
array


np.max(array)


np.argmax(array) # posición del array máximo


kk = np.random.rand(1,10)


kk


kk_ord = np.sort(kk,axis=1)


kk_ord


kk_ord[::-1]


np.argmax(array)


array.reshape(10,-1)[np.argmax(array)] ## seleccionamos el elemento maximo a través de la posición


np.argmax(array, axis=0)


np.argmax(array, axis=1)















