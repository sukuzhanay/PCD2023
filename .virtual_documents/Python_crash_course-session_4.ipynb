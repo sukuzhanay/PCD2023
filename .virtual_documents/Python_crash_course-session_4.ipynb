








# pip install numpy --upgrade --ignore-installed


import pandas as pd
import numpy as np


import warnings
warnings.filterwarnings("ignore")





lista1 = [1.2, 2, 3, 45, 5]


lista1


from pandas import Series

serie = Series([1000000, 22, 13, 64, 95])
print(serie)








#Para acceder a los valores de la lista y a sus claves
print(serie.values)
print(serie.index)


type(serie.values)


#Crear una series especificando el índice
serie = Series([1, 2, 3, 4, 5.9], index = ['uno', 'dos', 'tres', 'cuatro', 'cinco'])
print(serie)


#Para acceder a los valores de la lista y a sus claves
print(serie.values)


print(serie.index)





#Acceder a elementos de una serie
print(serie[['cuatro', 'uno', 'tres']])


#Acceder al valor
print(serie['tres'])


type(serie)


type(serie['tres'])


#Filas
print(serie[1:3])


serie


serie > 3


serie['cinco'] = 88


serie


#Por condiciones
serie[serie > 3] = 99


serie


np.exp(serie)











cuadrado = lambda x: x ** 2

print(cuadrado(3))


## definición sin lambda

def cuadrado(x):
     return x ** 2
    
print(cuadrado(3))














s = Series(['fox', 'cow', np.nan, 'dog'])
s





ddd = {'fox': 'cub', 'cow': 'calf'};ddd


ddd.get('fox', [1, 23])


s.map(lambda x: ddd.get(x, -1))





x = 10


'hoy es dia ' + str(x)


'hoy es dia %f' %(10)


'hoy es dia {} del mes {}'.format(15, 11.5)


s.map('I am a {}'.format)





s.map('I am a {}'.format, na_action='ignore')





enteros = [1, 2, 4, 7]

cuadrados = []

for e in enteros:
    cuadrados.append(e ** 2)
    print(cuadrados)
print(cuadrados)


print(cuadrados)





enteros = [1, 2, 4, 7]

cuadrados = list(map(lambda x : x ** 2, enteros))

print(cuadrados)





enteros = [1, 2, 4, 7]

def cuadrado(x):
    return x ** 2

def cubo(x):
    return x ** 3

funciones = [cuadrado, cubo]


enteros


for e in enteros:
    print(e)
    valores = list(map(lambda x : x(e), funciones))
    print(valores)





#Crear un Dataframe a partir de un diccionario
from pandas import DataFrame

diccionario = {'Nombre': ['Pablo', 'Manuel', 'Edgar', 'Eric', 'Maria'], 
               'Edad': [23, 11, 35, 68, 16],
               'Telefono': [652289, 6551243, 662564, 4334448, 433321]}
print(diccionario)


data = pd.DataFrame(diccionario)
data





data = DataFrame(diccionario, columns = ['Edad','Nombre',  'Telefono'], 
                 index = ['j33', 'v41', 'b45', 'p28', 'r36'])
data


data['kk'] = 1


data


#creamos una columna nueva "E-mail"
data['e-mail'] = ['pepito@gmail.com', 'perez@gmail.com', 'trigal@gmail.com', 'triste@gmail.com', 'tigre@gmail.com']
data





df = pd.DataFrame([
    ["Pablo", 23, 652289],
    ["Manuel", 11, 6551243],
    ["Edgar", 35, 662564],
    ["Eric", 68, 4334448],
    ["Maria", 16, 433321]
], columns=["Nombre", "Edad", "Telefono"])
df





pd.read_csv?


df = pd.read_csv("data1.txt", sep=';', decimal=',');df


csv_df.sum(axis=0)


csv_df.to_csv('data_con_indice.csv', index=True, encoding='utf8') # por defecto index=true y se guarda el indice del dataframe





df.head(2)


print(df.head(2))
print("-"*100)
print(df.tail(2))
print("-"*100)
print(df.info())
print("-"*100)
print(df.describe())











import pandas as pd

empl_df = pd.DataFrame({
    'Name': ["Jon", "Willy", "Mike", "Luna", "Sam", "Aliza"],
    'Age': [30, 33, 35, 30, 30, 31],
    'Weight(KG)': [75, 75, 80, 70, 73, 70],
    'Height(meters)': [1.7, 1.7, 1.85, 1.75, 1.8, 1.75],
    'Salary($)': [3300, 3500, 4000, 3050, 3500, 3700]

})
empl_df


empl_df['Height(meters)']





empl_df.mean(axis=0)


print(empl_df.mean()) # axis=0 es por defecto








(3300+1.70 +75+30 )/4


print(empl_df.sum(axis=1))















# Asegura que panda este disponible
import pandas as pd

# lee el archivo **surveys** CSV
surveys_df = pd.read_csv("surveys.csv")


surveys_df


# Método 1: selecciona un 'subconjunto' de los datos usando el nombre de la columna
surveys_df[['species', 'year']]


# Método 2: usa el nombre de la columna como un 'atributo'; esto produce la misma salida
surveys_df.species





# Crea un objeto, `surveys_species`, que solamente contenga la columna `species`
surveys_species = surveys_df['species']
surveys_species


surveys_species = 'PP'


surveys_species





# ¿Qué pasa si preguntamos por una columna que no existe?
# surveys_df['speciess']





# Selecciona species y plot
surveys_df[['species', 'plot']]


# ¿Qué pasa cuando invertimos el orden?
surveys_df[['plot', 'species', 'sex', 'wgt']]








# Crea una lista de números:
a = [1, 2, 3, 4, 5]


a[0]


# a[len(a)]


a[len(a)-1]








# Selecciona las filas 0, 1, 2 (la fila 3 no es seleccionada)
surveys_df[0:3]





# Selecciona las primeras cinco filas (con índices 0, 1, 2, 3, 4)
surveys_df[:5]


# Selecciona el último elemento de la lista
# (el segmento comienza en el último elemento y finaliza al final de la lista)
surveys_df[-1:]


surveys_df.tail(1)


empl_df.dtypes


empl_df


empl_df['Weight(KG)'] < 75


filtro = (empl_df['Weight(KG)'] < 75) & (empl_df['Height(meters)'] >= 1.75)


filtro


empl_df[filtro]


surveys_df[surveys_df['species']=='AH']


surveys_df[surveys_df['species']=='AH'].record_id.min()


surveys_df[-4:-2]











x = [1, 2]
y = x


print(x, y)


x[0] = 99


print(x,y)


y[1] = 88


print(x,y)


# Usando el método 'copy()'
true_copy_surveys_df = surveys_df.copy()


# Usando el operador '='
ref_surveys_df = surveys_df





ref_surveys_df


# Asigna el valor `0` a las primeras tres filas de datos en el **DataFrame**
ref_surveys_df[0:3] = 0


# ref_surveys_df fue creado usando el operador '='
ref_surveys_df.head()


# surveys_df es el **DataFrame** original
surveys_df.head()








# lee el archivo **surveys** CSV
surveys_df = pd.read_csv("surveys.csv")
# Usando el método 'copy()'
true_copy_surveys_df = surveys_df.copy()


# Asigna el valor `0` a las primeras tres filas de datos en el **DataFrame**
true_copy_surveys_df[0:3] = 0


true_copy_surveys_df.head()


surveys_df.head()








true_copy_surveys_df = surveys_df.copy()





ref_surveys_df = surveys_df








surveys_df = pd.read_csv("surveys.csv") # subimos el dataset


surveys_df.head()


surveys_df.iloc[0:3, 1:5]





surveys_df.head()


lista = list(range(0,11))


lista


lista[::-1]


# Selecciona todas las columnas para las filas con índices  0 y 10
surveys_df.loc[[0, 10], ::3]


surveys_df.iloc[0:10,:]


# ¿Qué salida produce el la siguiente instrucción?
surveys_df.loc[0:10, ['species', 'plot', 'wgt']]


# ¿Qué pasa cuando ejecutas el siguiente código?
surveys_df.loc[[0, 10, 333, 45, 21, 553], :]


# ¿Qué pasa cuando ejecutas el siguiente código?
#surveys_df.loc[[0, 10, 333, 45, 21, 598653], :]








surveys_df.head()


surveys_df[['year', 'record_id']]


surveys_df.iloc[1:3,:][['record_id', 'year']]


surveys_df[surveys_df['plot'] == 7]['year'].mean()


surveys_df[surveys_df['plot'] == 7].mean()['year']





surveys_df[:8]


surveys_df[1:4]


surveys_df.iloc[0:4, 0:]


surveys_df.iloc[0:4, :]


surveys_df.iloc[0:4]


surveys_df.iloc[0:4, 1:7]
